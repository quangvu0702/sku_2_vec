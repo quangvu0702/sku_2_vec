{
 "cells": [
  {
   "cell_type": "markdown",
   "metadata": {},
   "source": [
    "## SKU TO VEC"
   ]
  },
  {
   "cell_type": "markdown",
   "metadata": {},
   "source": [
    "# I. Problem: <br />\n",
    "You have a website and there are many interactions between objects on the website likes user-item (e-commercial web), user-user (social web). You want to create a recommendation system or build a network that show the relationship of these objects. One of solutions is convert objects into vectors in which computer can calculate the similarity between of them in easy ways: put 2 vecotor into quick function for example similar(A,B) = A x B, or any more complexed functions like deep models. In this documment I will show you step by step to build a ranking system that can convert objects to vectors and calculate the simmilarity of them base on similar(A,B) = A x B.\n",
    "\n",
    "Solution: I will using deep learning as a tool to convert users and items to vector base on users' actions."
   ]
  },
  {
   "cell_type": "markdown",
   "metadata": {},
   "source": [
    "### Reference\n",
    "https://arxiv.org/pdf/1103.0398.pdf\n",
    "\n",
    "http://sebastianruder.com/word-embeddings-1/index.html#continuousbagofwordscbow"
   ]
  },
  {
   "cell_type": "markdown",
   "metadata": {},
   "source": [
    "# II. Introduction to Word embedding models\n",
    "\n",
    "Naturally, every feed-forward neural network that takes words from a vocabulary as input and embeds them as vectors into a lower dimensional space, which it then fine-tunes through back-propagation, necessarily yields word embeddings as the weights of the first layer, which is usually referred to as Embedding Layer.\n",
    "\n",
    "The main difference between such a network that produces word embeddings as a by-product and a method such as word2vec whose explicit goal is the generation of word embeddings is its computational complexity. Generating word embeddings with a very deep architecture is simply too computationally expensive for a large vocabulary. This is the main reason why it took until 2013 for word embeddings to explode onto the NLP stage; computational complexity is a key trade-off for word embedding models\n",
    "\n",
    "#### 1 Embedding Layer: \n",
    "A layer that generates word embeddings by multiplying an index vector with a word embedding matrix;\n",
    "#### 2 Intermediate Layer(s):\n",
    "One or more layers that produce an intermediate representation of the input, e.g. a fully-connected layer that applies a non-linearity to the concatenation of word embeddings of nn previous words;\n",
    "#### 3 Cost Layer:\n",
    "The final layer that produces a probability distribution over words in VV."
   ]
  },
  {
   "cell_type": "markdown",
   "metadata": {},
   "source": [
    "### a. Example model: CBOW model\n",
    "\n",
    "<img src=\"img/cbow.png\">"
   ]
  },
  {
   "cell_type": "markdown",
   "metadata": {},
   "source": [
    "### The pairwise ranking criterion, which looks like this:\n",
    "\n",
    "   <img src=\"img/margin_1_loss.png\">\n",
    "    "
   ]
  },
  {
   "cell_type": "markdown",
   "metadata": {},
   "source": [
    "# III. Implement Bayesian Personalize Ranking"
   ]
  },
  {
   "cell_type": "markdown",
   "metadata": {},
   "source": [
    "### Import library <br />\n",
    "    - pandas to read and preprocess data.\n",
    "    - numpy to calculate output number.\n",
    "    - Tensorflow to build model <br />"
   ]
  },
  {
   "cell_type": "code",
   "execution_count": 1,
   "metadata": {
    "collapsed": true
   },
   "outputs": [],
   "source": [
    "import tensorflow as tf\n",
    "import numpy as np\n",
    "%matplotlib inline\n",
    "import matplotlib.pyplot as plt\n",
    "import pandas as pd\n",
    "import collections\n",
    "import random\n",
    "import math"
   ]
  },
  {
   "cell_type": "markdown",
   "metadata": {},
   "source": [
    "### Imports, config variables, and data generators"
   ]
  },
  {
   "cell_type": "code",
   "execution_count": 25,
   "metadata": {
    "collapsed": true
   },
   "outputs": [],
   "source": [
    "# Global config variables\n",
    "batch_size = 12 # 128\n",
    "num_classes = 10 # number of skus and zuids ~700.000 \n",
    "# The sample is small, we only have 4 users and 6 items. So we only need a vector lenght 4 to represent \n",
    "# the users and items\n",
    "state_size = 4 # 8, 16, 32, 64, 128\n",
    "learning_rate = 0.001 "
   ]
  },
  {
   "cell_type": "markdown",
   "metadata": {},
   "source": [
    "### Inputs:\n",
    "Input is a file that contains action logs of users. \n",
    "    - First line is name of column: zuid, action_type, sku. zuid is user id. Action_type: 6 is buy, 2 is view. Sku is item id. Seprated by a tab.\n",
    "    - From second line to end of file each line is a action of a user on a item. \n",
    "    \n",
    "Example:\n",
    "    - \"Victor\t6\tConvert\" means: user Victor buy item Convert.\n",
    "    - \"Niko\t2 \tAdidas\" means: user Niko view item Adidas. "
   ]
  },
  {
   "cell_type": "code",
   "execution_count": 3,
   "metadata": {
    "collapsed": false
   },
   "outputs": [],
   "source": [
    "class generator():\n",
    "    def __init__(self, file_name):\n",
    "        self.read_data_from_file(file_name)\n",
    "        self.create_map()\n",
    "        self.create_action_dict()\n",
    "        \n",
    "    def maybe_download_file(self, date):\n",
    "        pass\n",
    "    \n",
    "    def read_data_from_file(self, file_name = 'data/sample_input.csv'):\n",
    "        # maybe_download_file\n",
    "        self.df = pd.read_csv(filepath_or_buffer = file_name, header=0, sep='\\t')\n",
    "        \n",
    "    def _create_map(self, set_items):\n",
    "        n_items = len(set_items)\n",
    "        index_2_item_map = dict(zip(range(n_items), set_items))\n",
    "        item_2_index_map = dict(zip(set_items, range(n_items)))\n",
    "        return index_2_item_map, item_2_index_map\n",
    "\n",
    "    def create_map(self):\n",
    "        self.n_zuids = len(set(self.df['zuid']))\n",
    "        self.n_skus = len(set(self.df['sku']))\n",
    "        self.skus = set(self.df['sku'])\n",
    "        self.index_2_zuid_map, self.zuid_2_index_map = self._create_map(set(self.df['zuid']))\n",
    "        self.index_2_sku_map, self.sku_2_index_map = self._create_map(set(self.df['sku']))\n",
    "\n",
    "    def create_action_dict(self):\n",
    "        self.d = collections.defaultdict(set)\n",
    "        for (_, row) in self.df.iterrows():\n",
    "            self.d[row['zuid']].add(row['sku'])\n",
    "            self.d[(row['zuid'], row['action_type'])].add(row['sku'])\n",
    "        for zuid in self.df['zuid']:\n",
    "            self.d[(zuid, 2)] = self.d[zuid] - self.d[(zuid, 6)]\n",
    "\n",
    "    def get_random_row(self):\n",
    "        x = list(range(len(self.df)))\n",
    "        random.shuffle(x)\n",
    "        for i in x:\n",
    "            yield self.df.loc[i]\n",
    "            \n",
    "    def _gen_sample(self):\n",
    "        for row in self.get_random_row():\n",
    "            zuid = row['zuid']\n",
    "            item_i = row['sku']\n",
    "            if (row['action_type'] == 6) and (len(self.d[(zuid, 2)]) > 0):\n",
    "                item_j = random.sample(self.d[(zuid, 2)], 1)[0]\n",
    "                yield(self.zuid_2_index_map[zuid],\\\n",
    "                     self.sku_2_index_map[item_i],\\\n",
    "                     self.sku_2_index_map[item_j])\n",
    "                \n",
    "            item_j = random.sample(self.skus,1)[0]\n",
    "            while (item_j in self.d[(zuid, 6)]):\n",
    "                item_j = random.sample(self.skus,1)[0]\n",
    "            yield(self.zuid_2_index_map[zuid],\\\n",
    "                     self.sku_2_index_map[item_i],\\\n",
    "                     self.sku_2_index_map[item_j])\n",
    "        \n",
    "    def gen_sample(self):\n",
    "        iterator = self._gen_sample()\n",
    "        gotone = False\n",
    "        try:\n",
    "            lookback = next(iterator)\n",
    "            gotone = True\n",
    "            while True:\n",
    "                cur = next(iterator)\n",
    "                yield False, lookback\n",
    "                lookback = cur\n",
    "        except StopIteration:\n",
    "            if gotone:\n",
    "                yield True, lookback\n",
    "            raise StopIteration()\n",
    "            \n",
    "    def gen_batch(self, batch_size):\n",
    "        iterator = self._gen_sample()\n",
    "        gotone = False\n",
    "        try:\n",
    "            while True:\n",
    "                zuids, skus_i, skus_j = [], [], []\n",
    "                for i in range(batch_size):\n",
    "                    zuid, sku_i, sku_j = next(iterator)\n",
    "                    zuids.append([zuid])\n",
    "                    skus_i.append([sku_i])\n",
    "                    skus_j.append([sku_j])\n",
    "                yield False, (zuids, skus_i, skus_j)\n",
    "        except StopIteration:\n",
    "            yield True, ([], [], [])\n",
    "            \n",
    "    def sanity_check_create_map(set_items = ''):\n",
    "        if set_items == '':\n",
    "            set_items = set(['a', 'b', 'c', 'd'])\n",
    "        index_2_item_map, item_2_index_map = create_map(set_items)\n",
    "        try:\n",
    "            for i in set_items:\n",
    "                assert(index_2_item_map[item_2_index_map[i]] == i)\n",
    "        except Exception as e:\n",
    "            print(e)\n",
    "            print('Sanity check: False')\n",
    "        print('Sanity check: Pass')\n",
    "    \n",
    "    def sanity_check_generate_sample(df, d):\n",
    "        for (zuid, sku_i, sku_j) in get_sample(df):\n",
    "            # check zuid have interaction with sku_i\n",
    "            assert((sku_i in d[zuid]))\n",
    "            if sku_j in d[(zuid, 2)]:\n",
    "                assert((sku_i in d[(zuid,6)]))\n",
    "        print(\"Sanity check: Pass\") \n",
    "\n",
    "    def gen_epochs(n, num_steps):\n",
    "        for i in range(n):\n",
    "            yield gen_batch(gen_data(), batch_size, num_steps)\n",
    "            \n",
    "# t = generator('data/sample_input.csv')\n",
    "# x = t.gen_batch(batch_size)\n",
    "# print(next(x))"
   ]
  },
  {
   "cell_type": "markdown",
   "metadata": {},
   "source": [
    "### Model"
   ]
  },
  {
   "cell_type": "markdown",
   "metadata": {},
   "source": [
    "If we treat a continuous sequence of actions of a user in a transaction as a sentences, the sku will play a role as a word.\n",
    "<img src=\"img/model_v1.png\">"
   ]
  },
  {
   "cell_type": "markdown",
   "metadata": {},
   "source": [
    "### Helper-functions for creating new variables"
   ]
  },
  {
   "cell_type": "code",
   "execution_count": 4,
   "metadata": {
    "collapsed": true
   },
   "outputs": [],
   "source": [
    "def new_weights(shape):\n",
    "    return tf.Variable(tf.truncated_normal(shape, stddev=0.05))\n",
    "def new_biases(length):\n",
    "    return tf.Variable(tf.constant(0.05, shape=[length]))\n",
    "\n",
    "def new_fc_layer(input,          # The previous layer.\n",
    "                 num_inputs,     # Num. inputs from prev. layer.\n",
    "                 num_outputs,    # Num. outputs.\n",
    "                 use_relu=True): # Use Rectified Linear Unit (ReLU)?\n",
    "\n",
    "    # Create new weights and biases.\n",
    "    weights = new_weights(shape=[num_inputs, num_outputs])\n",
    "    biases = new_biases(length=num_outputs)\n",
    "\n",
    "    # Calculate the layer as the matrix multiplication of\n",
    "    # the input and weights, and then add the bias-values.\n",
    "    layer = tf.matmul(input, weights) + biases\n",
    "\n",
    "    # Use ReLU?\n",
    "    if use_relu:\n",
    "        layer = tf.nn.relu(layer)\n",
    "\n",
    "    return layer"
   ]
  },
  {
   "cell_type": "markdown",
   "metadata": {},
   "source": [
    "## Bayersian Personalize Ranking (BPR)\n",
    "\n",
    "Loss function:\n",
    "<img src=\"img/objective_function.png\">\n",
    "\n",
    "with: \n",
    "\n",
    "<img src=\"img/BPR_loss.png\">\n",
    "\n",
    "and,\n",
    "\n",
    "<img src=\"img/BPR_loss_2.png\">\n"
   ]
  },
  {
   "cell_type": "code",
   "execution_count": 5,
   "metadata": {
    "collapsed": true
   },
   "outputs": [],
   "source": [
    "# Placeholders\n",
    "u_index = tf.placeholder(tf.int32, [batch_size,1], name = 'zuid')\n",
    "x_i_index = tf.placeholder(tf.int32, [batch_size,1], name = 'xi')\n",
    "x_j_index = tf.placeholder(tf.int32, [batch_size,1], name = 'xj')"
   ]
  },
  {
   "cell_type": "code",
   "execution_count": 6,
   "metadata": {
    "collapsed": false
   },
   "outputs": [],
   "source": [
    "# Variables\n",
    "\n",
    "#lookup table \n",
    "embedding_skus = new_weights([num_classes, state_size])\n",
    "embedding_zuids = new_weights([num_classes, state_size])\n",
    "# input vectors\n",
    "u = tf.nn.embedding_lookup(embedding_zuids, u_index)\n",
    "x_i = tf.nn.embedding_lookup(embedding_skus, x_i_index)\n",
    "x_j = tf.nn.embedding_lookup(embedding_skus, x_j_index)"
   ]
  },
  {
   "cell_type": "markdown",
   "metadata": {},
   "source": [
    "## Model "
   ]
  },
  {
   "cell_type": "markdown",
   "metadata": {},
   "source": [
    "<img src=\"img/BPR_loss_2.png\">"
   ]
  },
  {
   "cell_type": "code",
   "execution_count": 7,
   "metadata": {
    "collapsed": false
   },
   "outputs": [],
   "source": [
    "x_ui = tf.matmul(u, x_i, transpose_a=False, transpose_b=True)\n",
    "x_ui = tf.squeeze(x_ui)\n",
    "x_uj = tf.matmul(u, x_j, transpose_a=False, transpose_b=True)\n",
    "x_uj = tf.squeeze(x_uj)"
   ]
  },
  {
   "cell_type": "markdown",
   "metadata": {},
   "source": [
    "<img src=\"img/BPR_loss.png\">"
   ]
  },
  {
   "cell_type": "code",
   "execution_count": 8,
   "metadata": {
    "collapsed": false
   },
   "outputs": [],
   "source": [
    "g_zuid = tf.reduce_mean(tf.multiply(embedding_zuids,embedding_zuids)[0:4,:][:])\n",
    "g_sku = tf.reduce_mean(tf.multiply(embedding_skus,embedding_skus)[0:6,:][:])\n",
    "x_uij = tf.log(tf.nn.sigmoid(x_ui - x_uj))\n",
    "x_uij_mean = tf.reduce_mean(tf.log(tf.nn.sigmoid(x_ui - x_uj)))"
   ]
  },
  {
   "cell_type": "markdown",
   "metadata": {},
   "source": [
    "## Cost-function to be optimized"
   ]
  },
  {
   "cell_type": "code",
   "execution_count": 9,
   "metadata": {
    "collapsed": false
   },
   "outputs": [],
   "source": [
    "loss = 0.001 * (g_zuid + g_sku) - x_uij_mean"
   ]
  },
  {
   "cell_type": "markdown",
   "metadata": {},
   "source": [
    "## Optimization Method"
   ]
  },
  {
   "cell_type": "code",
   "execution_count": 10,
   "metadata": {
    "collapsed": true
   },
   "outputs": [],
   "source": [
    "optimizer = tf.train.AdamOptimizer(learning_rate=learning_rate).minimize(loss)"
   ]
  },
  {
   "cell_type": "markdown",
   "metadata": {},
   "source": [
    "## Support function AUC estimator"
   ]
  },
  {
   "cell_type": "markdown",
   "metadata": {},
   "source": [
    "<img src=\"img/AUC.png\">"
   ]
  },
  {
   "cell_type": "code",
   "execution_count": 11,
   "metadata": {
    "collapsed": false
   },
   "outputs": [],
   "source": [
    "ranking_matrix = tf.matmul(embedding_zuids,embedding_skus, transpose_b=True) "
   ]
  },
  {
   "cell_type": "markdown",
   "metadata": {},
   "source": [
    "## TensorFlow Training model"
   ]
  },
  {
   "cell_type": "code",
   "execution_count": 12,
   "metadata": {
    "collapsed": true
   },
   "outputs": [],
   "source": [
    "session = tf.Session()\n",
    "session.run(tf.global_variables_initializer())"
   ]
  },
  {
   "cell_type": "code",
   "execution_count": 13,
   "metadata": {
    "collapsed": false
   },
   "outputs": [],
   "source": [
    "t = generator('data/sample_input.csv')"
   ]
  },
  {
   "cell_type": "code",
   "execution_count": 14,
   "metadata": {
    "collapsed": false
   },
   "outputs": [],
   "source": [
    "losses = list()\n",
    "aucs = list()"
   ]
  },
  {
   "cell_type": "code",
   "execution_count": 15,
   "metadata": {
    "collapsed": false
   },
   "outputs": [],
   "source": [
    "def train(n_iter = 100):\n",
    "    for i in range(n_iter):\n",
    "        batchs = t.gen_batch(batch_size)\n",
    "        (is_end, (zuids, items_i, items_j)) = next(batchs)\n",
    "        while is_end == False:\n",
    "            feed_dict_train = {u_index : zuids,\\\n",
    "                                x_i_index : items_i,\\\n",
    "                                x_j_index : items_j}\n",
    "            _, batch_loss, auc = session.run([optimizer, loss, x_uij], feed_dict=feed_dict_train)\n",
    "            losses.append(batch_loss)\n",
    "            aucs.append(sum(auc > math.log(0.5)) / len(auc))\n",
    "            (is_end, (zuids, items_i, items_j)) = next(batchs)"
   ]
  },
  {
   "cell_type": "markdown",
   "metadata": {},
   "source": [
    "### Train and plot lost and auc accuracy for the first 100 iterations:"
   ]
  },
  {
   "cell_type": "code",
   "execution_count": 16,
   "metadata": {
    "collapsed": false
   },
   "outputs": [],
   "source": [
    "train(n_iter = 100)"
   ]
  },
  {
   "cell_type": "code",
   "execution_count": 17,
   "metadata": {
    "collapsed": false
   },
   "outputs": [
    {
     "name": "stdout",
     "output_type": "stream",
     "text": [
      "Loss while training phase.\n"
     ]
    },
    {
     "data": {
      "image/png": "[encoded data removed]",
      "text/plain": [
       "<matplotlib.figure.Figure at 0x7fa53dea42e8>"
      ]
     },
     "metadata": {},
     "output_type": "display_data"
    }
   ],
   "source": [
    "plt.plot(list(range(len(losses))), losses)\n",
    "print(\"Loss while training phase.\")\n",
    "plt.show()"
   ]
  },
  {
   "cell_type": "code",
   "execution_count": 18,
   "metadata": {
    "collapsed": false,
    "scrolled": true
   },
   "outputs": [
    {
     "name": "stdout",
     "output_type": "stream",
     "text": [
      "AUC while training. As the graph below show that AUC on test is going around 80%.\n"
     ]
    },
    {
     "data": {
      "image/png": "[encoded data removed]",
      "text/plain": [
       "<matplotlib.figure.Figure at 0x7fa53dea4080>"
      ]
     },
     "metadata": {},
     "output_type": "display_data"
    }
   ],
   "source": [
    "plt.plot(list(range(len(aucs))), aucs, 'r')\n",
    "print(\"AUC while training. As the graph below show that AUC on test is going around 80%.\")\n",
    "plt.show()"
   ]
  },
  {
   "cell_type": "markdown",
   "metadata": {},
   "source": [
    "### Train and plot lost and auc accuracy for the next 900 iterations:"
   ]
  },
  {
   "cell_type": "code",
   "execution_count": 19,
   "metadata": {
    "collapsed": true
   },
   "outputs": [],
   "source": [
    "train(n_iter = 900)"
   ]
  },
  {
   "cell_type": "code",
   "execution_count": 20,
   "metadata": {
    "collapsed": false
   },
   "outputs": [
    {
     "name": "stdout",
     "output_type": "stream",
     "text": [
      "Loss while training phase.\n"
     ]
    },
    {
     "data": {
      "image/png": "[encoded data removed]",
      "text/plain": [
       "<matplotlib.figure.Figure at 0x7fa53c668630>"
      ]
     },
     "metadata": {},
     "output_type": "display_data"
    }
   ],
   "source": [
    "plt.plot(list(range(len(losses))), losses)\n",
    "print(\"Loss while training phase.\")\n",
    "plt.show()"
   ]
  },
  {
   "cell_type": "code",
   "execution_count": 21,
   "metadata": {
    "collapsed": false
   },
   "outputs": [
    {
     "name": "stdout",
     "output_type": "stream",
     "text": [
      "AUC while training. As the graph below show that AUC on test is going more than 90%.\n"
     ]
    },
    {
     "data": {
      "image/png": "[encoded data removed]",
      "text/plain": [
       "<matplotlib.figure.Figure at 0x7fa535f50f28>"
      ]
     },
     "metadata": {},
     "output_type": "display_data"
    }
   ],
   "source": [
    "plt.plot(list(range(len(aucs))), aucs, 'r')\n",
    "print(\"AUC while training. As the graph below show that AUC on test is going more than 90%.\")\n",
    "plt.show()"
   ]
  },
  {
   "cell_type": "markdown",
   "metadata": {},
   "source": [
    "### Write result to test the toy example:"
   ]
  },
  {
   "cell_type": "markdown",
   "metadata": {},
   "source": [
    "The output vector of zuids and skus will be extract to skus_vec and zuids_vec. We can reuse the result base on these vectors. For example:"
   ]
  },
  {
   "cell_type": "code",
   "execution_count": 22,
   "metadata": {
    "collapsed": false
   },
   "outputs": [],
   "source": [
    "# embedding_skus\n",
    "# embedding_zuid\n",
    "skus_vec = session.run(embedding_skus)\n",
    "zuids_vec = session.run(embedding_zuids)\n",
    "ranking= session.run(ranking_matrix)\n",
    "g_zuid_num = session.run(g_zuid)\n",
    "g_sku_num = session.run(g_sku)"
   ]
  },
  {
   "cell_type": "code",
   "execution_count": 23,
   "metadata": {
    "collapsed": false,
    "scrolled": true
   },
   "outputs": [
    {
     "name": "stdout",
     "output_type": "stream",
     "text": [
      "d\n",
      "i2\n",
      "i3\n",
      "i4\n",
      "i6\n",
      "i1\n",
      "i5\n",
      "a\n",
      "i1\n",
      "i5\n",
      "i3\n",
      "i2\n",
      "i4\n",
      "i6\n",
      "c\n",
      "i6\n",
      "i4\n",
      "i5\n",
      "i3\n",
      "i2\n",
      "i1\n",
      "b\n",
      "i1\n",
      "i5\n",
      "i3\n",
      "i2\n",
      "i4\n",
      "i6\n"
     ]
    }
   ],
   "source": [
    "for zuid in range(t.n_zuids):\n",
    "    print(t.index_2_zuid_map[zuid])\n",
    "    favorite_list = np.argsort(-ranking[zuid,:])\n",
    "    for sku in favorite_list:\n",
    "        try:\n",
    "            print(t.index_2_sku_map[sku])\n",
    "        except:\n",
    "            pass"
   ]
  }
 ],
 "metadata": {
  "kernelspec": {
   "display_name": "Python 3",
   "language": "python",
   "name": "python3"
  },
  "language_info": {
   "codemirror_mode": {
    "name": "ipython",
    "version": 3
   },
   "file_extension": ".py",
   "mimetype": "text/x-python",
   "name": "python",
   "nbconvert_exporter": "python",
   "pygments_lexer": "ipython3",
   "version": "3.5.2"
  }
 },
 "nbformat": 4,
 "nbformat_minor": 0
}
