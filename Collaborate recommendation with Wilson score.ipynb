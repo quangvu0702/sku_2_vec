{
 "cells": [
  {
   "cell_type": "markdown",
   "metadata": {},
   "source": [
    "# Recomendation:  Item-based Collaborative Filtering and Wilson score\n",
    "\n",
    " This algorithm takes historical view, cart and purchase data as input and output the “related” products for each item with corresponding score."
   ]
  },
  {
   "cell_type": "markdown",
   "metadata": {},
   "source": [
    "## I. Wilson score\n",
    "First let take a look what is Wilson score and why we using Wilson score."
   ]
  },
  {
   "cell_type": "markdown",
   "metadata": {},
   "source": [
    "#### PROBLEM: \n",
    "You have an wedding invitation, and you decide to go to zalora website to buy a new dress. Unfortunately, you computer cannot display image of dresses. You have to choose dress base on others the rating to decide decide which dress you should buy."
   ]
  },
  {
   "cell_type": "markdown",
   "metadata": {},
   "source": [
    "**SOLUTION #1:** Score = (Positive ratings) - (Negative ratings)\n",
    "\n",
    "Dress A (new arrival): 10 positive votes, 0 negative votes. => score = 10. <br />\n",
    "Dress B: 60 positive votes, 49 negative votes => score = 11. <br />\n",
    "Should you choose dress B instead of dress A base on B'score 11 > A'score 10? How about 49 negavite votes on Dress B. <br />\n",
    "*Problem with this score is that it depends to much on number of votes.* <br />"
   ]
  },
  {
   "cell_type": "markdown",
   "metadata": {},
   "source": [
    "You feel some thing wrong with score = (Positive ratings) - (Negative ratings). So you chagne the way to calculate score."
   ]
  },
  {
   "cell_type": "markdown",
   "metadata": {},
   "source": [
    "**SOLUTION #2:** Score = Average rating = (Positive ratings) / (Total ratings)\n",
    "\n",
    "Dress C (new arrival): 1 positive votes, 0 negative votes. => score = 100%. <br />\n",
    "Dress D: 9 positive votes, 1 negative votes => score = 90%. <br />\n",
    "Should you choose dress C instead of dress D base on C'score 100% > D'score 90%? <br />\n",
    "*Problem with this score is that it easy to jump significant of item only had a few votes* <br />"
   ]
  },
  {
   "cell_type": "markdown",
   "metadata": {},
   "source": [
    "After try two score you realize you want a reliable score that is try worthy and over the weaknesses of the two previous scores. <br />\n",
    "And you come up with the question:<br /> \n",
    "**\"Given the ratings I have, there is a realy high chance (~95% - 100%) that the \"real\" fraction of positive ratings is what?\"**\n",
    "And you find out Wilson score can give you exactly what you want ;)"
   ]
  },
  {
   "cell_type": "code",
   "execution_count": 26,
   "metadata": {
    "collapsed": false
   },
   "outputs": [],
   "source": [
    "# I want confidence of fraction of positive rating is 95%.\n",
    "import math\n",
    "def wilson95(p, total):\n",
    "    if (p <= 0 or total < 0):\n",
    "        return 0\n",
    "    p = float(p)\n",
    "    total = float(total)\n",
    "    return (p + 1.9208 - 1.96 * math.sqrt(p - p * p / total + 0.9604)) /  (3.8416 + total)"
   ]
  },
  {
   "cell_type": "markdown",
   "metadata": {},
   "source": [
    "Let we calculate scores of Dreass A, B, C, D as mention upper. <br />\n",
    "Dress A: positive = 10, negative = 0 <br />\n",
    "Dress B: positive = 60, negative = 49 <br />\n",
    "Dress C: positive = 1, negative = 0 <br />\n",
    "Dress D: positive = 9, negative = 1 <br />"
   ]
  },
  {
   "cell_type": "code",
   "execution_count": 27,
   "metadata": {
    "collapsed": false,
    "scrolled": true
   },
   "outputs": [
    {
     "name": "stdout",
     "output_type": "stream",
     "text": [
      "Dress score of dress A is  0.7224598312333834\n",
      "Dress score of dress B is  0.45694046930826504\n",
      "Dress score of dress C is  0.20654329147389294\n",
      "Dress score of dress D is  0.595843614502428\n"
     ]
    }
   ],
   "source": [
    "print(\"Dress score of dress A is \", wilson95(10, 10 + 0))\n",
    "print(\"Dress score of dress B is \", wilson95(60, 60 + 49))\n",
    "print(\"Dress score of dress C is \", wilson95(1, 1 + 0))\n",
    "print(\"Dress score of dress D is \", wilson95(9, 9 + 1))"
   ]
  },
  {
   "cell_type": "markdown",
   "metadata": {},
   "source": [
    "So the final result base on Wilson score, I recommend you choose Dress A."
   ]
  },
  {
   "cell_type": "markdown",
   "metadata": {},
   "source": [
    "## II. Item-based Collaborative Filtering\n",
    "Let pur_sku1 be the set of users who bought product sku1 and pur_sku2 be the set of users who bought product sku2, the score for this strategy is:\n",
    "\n",
    "<img src=\"img/rec_Jaccard.png\">\n",
    "\n",
    "with W is Wilson score.\n",
    "\n",
    "This formula which focuses on historical purchasing data provides us kind of product association recommendation (i.e. \"customers who bought this item also bought these\"). (We will do the same for co-view and co-add-to-cart, then combine 3 scores base on the weights on each scores). For this example I will focus on co-buy score."
   ]
  },
  {
   "cell_type": "code",
   "execution_count": 28,
   "metadata": {
    "collapsed": true
   },
   "outputs": [],
   "source": [
    "pur_sku1 = set(['user1', 'user2', 'user3', 'user4', 'user5'])\n",
    "pur_sku2 = set(['user1', 'user2', 'user6', 'user7', 'user8', 'user9'])\n",
    "pur_sku3 = set(['user9', 'user10', 'user11', 'user12', 'user13'])\n",
    "pur_sku4 = set(['user11', 'user12', 'user13', 'user4', 'user5'])"
   ]
  },
  {
   "cell_type": "markdown",
   "metadata": {
    "collapsed": true
   },
   "source": [
    "As the data show that: \n",
    "- sku1 and sku2 have 2 co-buyers is user1 and user2, and there are 9 buyers, score will be wilson(2,9)\n",
    "- sku1 and sku4 have 0 co-buyers and there are total 10 buyers, score will be wilson(0,10)\n",
    "- ..."
   ]
  },
  {
   "cell_type": "code",
   "execution_count": 39,
   "metadata": {
    "collapsed": false,
    "scrolled": true
   },
   "outputs": [
    {
     "name": "stdout",
     "output_type": "stream",
     "text": [
      "score sku1-sku2 is :  0.06322376231222718\n",
      "score sku1-sku3 is :  0\n",
      "score sku1-sku4 is :  0.07147768885802765\n",
      "score sku2-sku3 is :  0.017875749515721136\n",
      "score sku2-sku4 is :  0\n",
      "score sku3-sku4 is :  0.15821692226262676\n"
     ]
    }
   ],
   "source": [
    "def score(A, B):\n",
    "    return wilson95(len(A & B), len(A | B))\n",
    "print('score sku1-sku2 is : ', score(pur_sku1, pur_sku2)) \n",
    "print('score sku1-sku3 is : ', score(pur_sku1, pur_sku3)) \n",
    "print('score sku1-sku4 is : ', score(pur_sku1, pur_sku4)) \n",
    "print('score sku2-sku3 is : ', score(pur_sku2, pur_sku3))\n",
    "print('score sku2-sku4 is : ', score(pur_sku2, pur_sku4))\n",
    "print('score sku3-sku4 is : ', score(pur_sku3, pur_sku4)) "
   ]
  }
 ],
 "metadata": {
  "kernelspec": {
   "display_name": "Python 3",
   "language": "python",
   "name": "python3"
  },
  "language_info": {
   "codemirror_mode": {
    "name": "ipython",
    "version": 3
   },
   "file_extension": ".py",
   "mimetype": "text/x-python",
   "name": "python",
   "nbconvert_exporter": "python",
   "pygments_lexer": "ipython3",
   "version": "3.5.2"
  }
 },
 "nbformat": 4,
 "nbformat_minor": 0
}
