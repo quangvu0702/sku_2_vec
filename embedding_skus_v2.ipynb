{
 "cells": [
  {
   "cell_type": "markdown",
   "metadata": {},
   "source": [
    "## SKU TO VEC V2\n",
    "In this verson I will modify code to run with the real data (big data) in many day. Code will be modifide in:\n",
    "    - state_size: we need more than 4 numbers to represent a user or a item.\n",
    "    - dictionary of users and items will be updated at every runtime instead of build from scratch.\n",
    "    - generate data will be modify to deal with sparse data."
   ]
  },
  {
   "cell_type": "markdown",
   "metadata": {},
   "source": [
    "# I. Problem: \n",
    "You have a website and there are many interactions between objects on the website likes user-item (e-commercial web), user-user (social web). You want to create a recommendation system or build a network that show the relationship of these objects. One of solutions is convert objects into vectors in which computer can calculate the similarity between of them in easy ways: put 2 vecotor into quick function for example similar(A,B) = A x B, or any more complexed functions like deep models. In this documment I will show you step by step to build a ranking system that can convert objects to vectors and calculate the simmilarity of them base on similar(A,B) = A x B.\n",
    "\n",
    "Solution: I will using deep learning as a tool to convert users and items to vector base on users' actions."
   ]
  },
  {
   "cell_type": "markdown",
   "metadata": {},
   "source": [
    "### Reference\n",
    "https://arxiv.org/pdf/1103.0398.pdf\n",
    "\n",
    "http://sebastianruder.com/word-embeddings-1/index.html#continuousbagofwordscbow"
   ]
  },
  {
   "cell_type": "markdown",
   "metadata": {},
   "source": [
    "# II. Introduction to Word embedding models\n",
    "\n",
    "Naturally, every feed-forward neural network that takes words from a vocabulary as input and embeds them as vectors into a lower dimensional space, which it then fine-tunes through back-propagation, necessarily yields word embeddings as the weights of the first layer, which is usually referred to as Embedding Layer.\n",
    "\n",
    "The main difference between such a network that produces word embeddings as a by-product and a method such as word2vec whose explicit goal is the generation of word embeddings is its computational complexity. Generating word embeddings with a very deep architecture is simply too computationally expensive for a large vocabulary. This is the main reason why it took until 2013 for word embeddings to explode onto the NLP stage; computational complexity is a key trade-off for word embedding models\n",
    "\n",
    "#### 1 Embedding Layer: \n",
    "A layer that generates word embeddings by multiplying an index vector with a word embedding matrix;\n",
    "#### 2 Intermediate Layer(s):\n",
    "One or more layers that produce an intermediate representation of the input, e.g. a fully-connected layer that applies a non-linearity to the concatenation of word embeddings of nn previous words;\n",
    "#### 3 Cost Layer:\n",
    "The final layer that produces a probability distribution over words in VV."
   ]
  },
  {
   "cell_type": "markdown",
   "metadata": {},
   "source": [
    "### a. Example model: CBOW model\n",
    "\n",
    "<img src=\"img/cbow.png\">"
   ]
  },
  {
   "cell_type": "markdown",
   "metadata": {},
   "source": [
    "### The pairwise ranking criterion, which looks like this:\n",
    "\n",
    "   <img src=\"img/margin_1_loss.png\">\n",
    "    "
   ]
  },
  {
   "cell_type": "markdown",
   "metadata": {},
   "source": [
    "# III. Implement Bayesian Personalize Ranking"
   ]
  },
  {
   "cell_type": "markdown",
   "metadata": {},
   "source": [
    "### Import library <br />\n",
    "    - pandas to read and preprocess data.\n",
    "    - numpy to calculate output number.\n",
    "    - Tensorflow to build model <br />"
   ]
  },
  {
   "cell_type": "code",
   "execution_count": 1,
   "metadata": {
    "collapsed": false
   },
   "outputs": [],
   "source": [
    "import tensorflow as tf\n",
    "import numpy as np\n",
    "%matplotlib inline\n",
    "import matplotlib.pyplot as plt\n",
    "import pandas as pd\n",
    "import collections\n",
    "import random\n",
    "import math\n",
    "import pickle\n",
    "import sys\n",
    "from pympler import asizeof\n",
    "import datetime\n",
    "import os"
   ]
  },
  {
   "cell_type": "markdown",
   "metadata": {},
   "source": [
    "### Imports, config variables, and data generators"
   ]
  },
  {
   "cell_type": "code",
   "execution_count": 2,
   "metadata": {
    "collapsed": true
   },
   "outputs": [],
   "source": [
    "# Global config variables\n",
    "batch_size = 128 # 128\n",
    "total_zuids = 100000 # number of skus and zuids ~700.000\n",
    "total_skus = 100000\n",
    "# The sample is small, we only have 4 users and 6 items. So we only need a vector lenght 4 to represent \n",
    "# the users and items\n",
    "state_size = 16 # 8, 16, 32, 64, 128\n",
    "learning_rate = 0.001 "
   ]
  },
  {
   "cell_type": "markdown",
   "metadata": {},
   "source": [
    "### Inputs:\n",
    "Input is a file that contains action logs of users. \n",
    "    - First line is name of column: zuid, action_type, sku. zuid is user id. Action_type: 6 is buy, 2 is view. Sku is item id. Seprated by a tab.\n",
    "    - From second line to end of file each line is a action of a user on a item. \n",
    "    \n",
    "Example:\n",
    "    - \"Victor\t6\tConvert\" means: user Victor buy item Convert.\n",
    "    - \"Niko\t2 \tAdidas\" means: user Niko view item Adidas. "
   ]
  },
  {
   "cell_type": "code",
   "execution_count": 3,
   "metadata": {
    "collapsed": false
   },
   "outputs": [],
   "source": [
    "def save_obj(obj, name):\n",
    "    with open('dict/'+ name + '.pkl', 'wb') as f:\n",
    "        pickle.dump(obj, f, pickle.HIGHEST_PROTOCOL)\n",
    "\n",
    "def load_obj(name):\n",
    "    try:\n",
    "        with open('dict/' + name + '.pkl', 'rb') as f:\n",
    "            return pickle.load(f)\n",
    "    except:\n",
    "        # create new model for the first time run:\n",
    "        d = dict()\n",
    "        d['n_elements'] = 0\n",
    "        d['all_elements'] = set()\n",
    "        d['index_2_item_map'] = dict()\n",
    "        d['item_2_index_map'] = dict()\n",
    "        return d\n",
    "        \n",
    "class generator():\n",
    "    def __init__(self):\n",
    "        self.skus = set()\n",
    "        self.d = collections.defaultdict(set)\n",
    "        \n",
    "    def update_new_data_from_file(self, file_name):\n",
    "        self.read_data_from_file(file_name)\n",
    "        self.create_or_update_map()\n",
    "        self.create_action_dict()\n",
    "        \n",
    "    def maybe_download_file(self, date):\n",
    "        pass\n",
    "    \n",
    "    def read_data_from_file(self, file_name = 'data/date_1.csv'):\n",
    "        # maybe_download_file\n",
    "        self.df = pd.read_csv(filepath_or_buffer = file_name, header=0, sep='\\t', dtype = {'sku': str, 'zuid':str})\\\n",
    "                    .dropna()\\\n",
    "                    .reset_index(drop=True)\n",
    "        \n",
    "    def _create_or_update_map(self, set_items, name):\n",
    "        # load data:\n",
    "        d = load_obj(name)\n",
    "        new_items = set_items - d['all_elements']\n",
    "        n_new_items = len(new_items)\n",
    "        index_2_item_map = dict(zip(range(d['n_elements'], d['n_elements'] + n_new_items), new_items))\n",
    "        item_2_index_map = dict(zip(new_items, range(d['n_elements'], d['n_elements'] + n_new_items)))\n",
    "        \n",
    "        # update and save new data:\n",
    "        d['index_2_item_map'].update(index_2_item_map)\n",
    "        d['item_2_index_map'].update(item_2_index_map)\n",
    "        d['n_elements'] += n_new_items\n",
    "        d['all_elements'].update(new_items)\n",
    "        save_obj(d, name)\n",
    "        return d['index_2_item_map'], d['item_2_index_map'], d['n_elements']\n",
    "\n",
    "    def create_or_update_map(self):\n",
    "        self.skus.update(set(self.df['sku']))\n",
    "        self.index_2_zuid_map, self.zuid_2_index_map, self.n_zuids = self._create_or_update_map(set(self.df['zuid']), 'zuid')\n",
    "        self.index_2_sku_map, self.sku_2_index_map, self.n_skus = self._create_or_update_map(set(self.df['sku']), 'sku')\n",
    "\n",
    "    def reset_action_dict(self):\n",
    "        self.d = collections.defaultdict(set)\n",
    "        \n",
    "    def create_action_dict(self):\n",
    "        # action dict will reset when reading a new file.\n",
    "#         self.d = collections.defaultdict(set)\n",
    "        for (_, row) in self.df.iterrows():\n",
    "            self.d[row['zuid']].add(row['sku'])\n",
    "            self.d[(row['zuid'], row['action_type'])].add(row['sku'])\n",
    "        for zuid in self.df['zuid']:\n",
    "            self.d[(zuid, 2)] = self.d[zuid] - self.d[(zuid, 6)]\n",
    "\n",
    "    def get_random_row(self):\n",
    "        x = list(range(len(self.df)))\n",
    "        random.shuffle(x)\n",
    "        for i in x:\n",
    "            yield self.df.loc[i]\n",
    "            \n",
    "    def _gen_sample(self):\n",
    "        for row in self.get_random_row():\n",
    "            zuid = row['zuid']\n",
    "            item_i = row['sku']\n",
    "            if (row['action_type'] == 6) and (len(self.d[(zuid, 2)]) > 0):\n",
    "                item_j = random.sample(self.d[(zuid, 2)], 1)[0]\n",
    "                yield(self.zuid_2_index_map[zuid],\\\n",
    "                     self.sku_2_index_map[item_i],\\\n",
    "                     self.sku_2_index_map[item_j])\n",
    "                \n",
    "            item_j = random.sample(self.skus,1)[0]\n",
    "            while (item_j in self.d[(zuid, 6)]):\n",
    "                item_j = random.sample(self.skus,1)[0]\n",
    "            yield(self.zuid_2_index_map[zuid],\\\n",
    "                     self.sku_2_index_map[item_i],\\\n",
    "                     self.sku_2_index_map[item_j])\n",
    "        \n",
    "    def gen_sample(self):\n",
    "        iterator = self._gen_sample()\n",
    "        gotone = False\n",
    "        try:\n",
    "            lookback = next(iterator)\n",
    "            gotone = True\n",
    "            while True:\n",
    "                cur = next(iterator)\n",
    "                yield False, lookback\n",
    "                lookback = cur\n",
    "        except StopIteration:\n",
    "            if gotone:\n",
    "                yield True, lookback\n",
    "            raise StopIteration()\n",
    "            \n",
    "    def gen_batch(self, batch_size):\n",
    "        iterator = self._gen_sample()\n",
    "        gotone = False\n",
    "        try:\n",
    "            while True:\n",
    "                zuids, skus_i, skus_j = [], [], []\n",
    "                for i in range(batch_size):\n",
    "                    zuid, sku_i, sku_j = next(iterator)\n",
    "                    zuids.append([zuid])\n",
    "                    skus_i.append([sku_i])\n",
    "                    skus_j.append([sku_j])\n",
    "                yield False, (zuids, skus_i, skus_j)\n",
    "        except StopIteration:\n",
    "            yield True, ([], [], [])\n",
    "            \n",
    "    def sanity_check_create_map(set_items = ''):\n",
    "        if set_items == '':\n",
    "            set_items = set(['a', 'b', 'c', 'd'])\n",
    "        index_2_item_map, item_2_index_map = create_map(set_items)\n",
    "        try:\n",
    "            for i in set_items:\n",
    "                assert(index_2_item_map[item_2_index_map[i]] == i)\n",
    "        except Exception as e:\n",
    "            print(e)\n",
    "            print('Sanity check: False')\n",
    "        print('Sanity check: Pass')\n",
    "    \n",
    "    def sanity_check_generate_sample(df, d):\n",
    "        for (zuid, sku_i, sku_j) in get_sample(df):\n",
    "            # check zuid have interaction with sku_i\n",
    "            assert((sku_i in d[zuid]))\n",
    "            if sku_j in d[(zuid, 2)]:\n",
    "                assert((sku_i in d[(zuid,6)]))\n",
    "        print(\"Sanity check: Pass\") \n",
    "\n",
    "    def gen_epochs(n, num_steps):\n",
    "        for i in range(n):\n",
    "            yield gen_batch(gen_data(), batch_size, num_steps)\n",
    "            \n",
    "# t = generator('data/sample_input.csv')\n",
    "# x = t.gen_batch(batch_size)\n",
    "# print(next(x))"
   ]
  },
  {
   "cell_type": "markdown",
   "metadata": {},
   "source": [
    "### Model"
   ]
  },
  {
   "cell_type": "markdown",
   "metadata": {},
   "source": [
    "If we treat a continuous sequence of actions of a user in a transaction as a sentences, the sku will play a role as a word.\n",
    "<img src=\"img/model_v1.png\">"
   ]
  },
  {
   "cell_type": "markdown",
   "metadata": {},
   "source": [
    "### Helper-functions for creating new variables"
   ]
  },
  {
   "cell_type": "code",
   "execution_count": 4,
   "metadata": {
    "collapsed": true
   },
   "outputs": [],
   "source": [
    "def new_weights(shape):\n",
    "    return tf.Variable(tf.truncated_normal(shape, stddev=0.05))\n",
    "def new_biases(length):\n",
    "    return tf.Variable(tf.constant(0.05, shape=[length]))\n",
    "\n",
    "def new_fc_layer(input,          # The previous layer.\n",
    "                 num_inputs,     # Num. inputs from prev. layer.\n",
    "                 num_outputs,    # Num. outputs.\n",
    "                 use_relu=True): # Use Rectified Linear Unit (ReLU)?\n",
    "\n",
    "    # Create new weights and biases.\n",
    "    weights = new_weights(shape=[num_inputs, num_outputs])\n",
    "    biases = new_biases(length=num_outputs)\n",
    "\n",
    "    # Calculate the layer as the matrix multiplication of\n",
    "    # the input and weights, and then add the bias-values.\n",
    "    layer = tf.matmul(input, weights) + biases\n",
    "\n",
    "    # Use ReLU?\n",
    "    if use_relu:\n",
    "        layer = tf.nn.relu(layer)\n",
    "\n",
    "    return layer"
   ]
  },
  {
   "cell_type": "markdown",
   "metadata": {},
   "source": [
    "## Bayersian Personalize Ranking (BPR)\n",
    "\n",
    "Loss function:\n",
    "<img src=\"img/objective_function.png\">\n",
    "\n",
    "with: \n",
    "\n",
    "<img src=\"img/BPR_loss.png\">\n",
    "\n",
    "and,\n",
    "\n",
    "<img src=\"img/BPR_loss_2.png\">\n"
   ]
  },
  {
   "cell_type": "code",
   "execution_count": 5,
   "metadata": {
    "collapsed": true
   },
   "outputs": [],
   "source": [
    "# Placeholders\n",
    "u_index = tf.placeholder(tf.int32, [batch_size,1], name = 'zuid')\n",
    "x_i_index = tf.placeholder(tf.int32, [batch_size,1], name = 'xi')\n",
    "x_j_index = tf.placeholder(tf.int32, [batch_size,1], name = 'xj')"
   ]
  },
  {
   "cell_type": "code",
   "execution_count": 6,
   "metadata": {
    "collapsed": false
   },
   "outputs": [],
   "source": [
    "# Variables\n",
    "\n",
    "#lookup table \n",
    "embedding_skus = new_weights([total_skus, state_size])\n",
    "embedding_zuids = new_weights([total_zuids, state_size])\n",
    "# input vectors\n",
    "u = tf.nn.embedding_lookup(embedding_zuids, u_index)\n",
    "x_i = tf.nn.embedding_lookup(embedding_skus, x_i_index)\n",
    "x_j = tf.nn.embedding_lookup(embedding_skus, x_j_index)"
   ]
  },
  {
   "cell_type": "markdown",
   "metadata": {},
   "source": [
    "## Model "
   ]
  },
  {
   "cell_type": "markdown",
   "metadata": {},
   "source": [
    "<img src=\"img/BPR_loss_2.png\">"
   ]
  },
  {
   "cell_type": "code",
   "execution_count": 7,
   "metadata": {
    "collapsed": false
   },
   "outputs": [],
   "source": [
    "x_ui = tf.matmul(u, x_i, transpose_a=False, transpose_b=True)\n",
    "x_ui = tf.squeeze(x_ui)\n",
    "x_uj = tf.matmul(u, x_j, transpose_a=False, transpose_b=True)\n",
    "x_uj = tf.squeeze(x_uj)"
   ]
  },
  {
   "cell_type": "markdown",
   "metadata": {},
   "source": [
    "<img src=\"img/BPR_loss.png\">"
   ]
  },
  {
   "cell_type": "code",
   "execution_count": 8,
   "metadata": {
    "collapsed": false
   },
   "outputs": [],
   "source": [
    "g_zuid = tf.reduce_mean(tf.multiply(embedding_zuids,embedding_zuids)[:])\n",
    "g_sku = tf.reduce_mean(tf.multiply(embedding_skus,embedding_skus)[:])\n",
    "x_uij = tf.log(tf.nn.sigmoid(x_ui - x_uj))\n",
    "x_uij_mean = tf.reduce_mean(tf.log(tf.nn.sigmoid(x_ui - x_uj)))"
   ]
  },
  {
   "cell_type": "markdown",
   "metadata": {},
   "source": [
    "## Loss function to be optimized"
   ]
  },
  {
   "cell_type": "code",
   "execution_count": 9,
   "metadata": {
    "collapsed": false
   },
   "outputs": [],
   "source": [
    "loss = 0.001 * (g_zuid + g_sku) - x_uij_mean"
   ]
  },
  {
   "cell_type": "markdown",
   "metadata": {},
   "source": [
    "## Optimization Method"
   ]
  },
  {
   "cell_type": "code",
   "execution_count": 10,
   "metadata": {
    "collapsed": true
   },
   "outputs": [],
   "source": [
    "optimizer = tf.train.AdamOptimizer(learning_rate=learning_rate).minimize(loss)"
   ]
  },
  {
   "cell_type": "markdown",
   "metadata": {},
   "source": [
    "## Support function AUC estimator"
   ]
  },
  {
   "cell_type": "markdown",
   "metadata": {},
   "source": [
    "<img src=\"img/AUC.png\">"
   ]
  },
  {
   "cell_type": "code",
   "execution_count": 11,
   "metadata": {
    "collapsed": false
   },
   "outputs": [],
   "source": [
    "# ranking_matrix = tf.matmul(embedding_zuids,embedding_skus, transpose_b=True) "
   ]
  },
  {
   "cell_type": "markdown",
   "metadata": {},
   "source": [
    "## Saver"
   ]
  },
  {
   "cell_type": "code",
   "execution_count": 12,
   "metadata": {
    "collapsed": false
   },
   "outputs": [],
   "source": [
    "saver = tf.train.Saver()\n",
    "save_dir = 'checkpoints/'\n",
    "save_path = os.path.join(save_dir, 'model')"
   ]
  },
  {
   "cell_type": "markdown",
   "metadata": {},
   "source": [
    "## TensorFlow Training model"
   ]
  },
  {
   "cell_type": "code",
   "execution_count": 13,
   "metadata": {
    "collapsed": false
   },
   "outputs": [],
   "source": [
    "session = tf.Session()\n",
    "session.run(tf.global_variables_initializer())\n",
    "try:\n",
    "    saver.restore(sess=session, save_path=save_path)\n",
    "except:\n",
    "    pass"
   ]
  },
  {
   "cell_type": "code",
   "execution_count": 14,
   "metadata": {
    "collapsed": false
   },
   "outputs": [],
   "source": [
    "t = generator()"
   ]
  },
  {
   "cell_type": "code",
   "execution_count": 15,
   "metadata": {
    "collapsed": false
   },
   "outputs": [],
   "source": [
    "losses = list()\n",
    "aucs = list()"
   ]
  },
  {
   "cell_type": "code",
   "execution_count": 16,
   "metadata": {
    "collapsed": false
   },
   "outputs": [],
   "source": [
    "def train(n_iter = 100, is_train = True):\n",
    "    global losses\n",
    "    global aucs\n",
    "    if is_train == False:\n",
    "        losses = list()\n",
    "        aucs = list()\n",
    "    count = 0\n",
    "    for i in range(n_iter):\n",
    "        print(str(datetime.datetime.now()))\n",
    "        batchs = t.gen_batch(batch_size)\n",
    "        (is_end, (zuids, items_i, items_j)) = next(batchs)\n",
    "        while is_end == False:\n",
    "            feed_dict_train = {u_index : zuids,\\\n",
    "                                x_i_index : items_i,\\\n",
    "                                x_j_index : items_j}\n",
    "            if is_train:\n",
    "                if count % 1000 == 0:\n",
    "                    batch_loss, auc = session.run([loss, x_uij], feed_dict=feed_dict_train)\n",
    "                    auc_score = sum(auc > math.log(0.5)) / len(auc)\n",
    "                    losses.append(batch_loss)\n",
    "                    aucs.append(auc_score)\n",
    "                    print(str(datetime.datetime.now()))\n",
    "                    print(\"Batch_loss and auc: \", batch_loss, auc_score)\n",
    "\n",
    "                session.run(optimizer, feed_dict=feed_dict_train) \n",
    "            else:\n",
    "                batch_loss, auc = session.run([loss, x_uij], feed_dict=feed_dict_train)\n",
    "                auc_score = sum(auc > math.log(0.5)) / len(auc)\n",
    "                losses.append(batch_loss)\n",
    "                aucs.append(auc_score)\n",
    "            (is_end, (zuids, items_i, items_j)) = next(batchs)\n",
    "            count +=1\n",
    "        print(str(datetime.datetime.now()))"
   ]
  },
  {
   "cell_type": "markdown",
   "metadata": {},
   "source": [
    "### Train and plot lost and auc accuracy for the first 100 iterations:"
   ]
  },
  {
   "cell_type": "code",
   "execution_count": 17,
   "metadata": {
    "collapsed": false
   },
   "outputs": [],
   "source": [
    "t.update_new_data_from_file('data/date_1.csv')"
   ]
  },
  {
   "cell_type": "code",
   "execution_count": 18,
   "metadata": {
    "collapsed": false
   },
   "outputs": [
    {
     "name": "stdout",
     "output_type": "stream",
     "text": [
      "2017-04-10 10:34:06.292721\n",
      "2017-04-10 10:34:07.165133\n",
      "Batch_loss and auc:  0.69318 0.5234375\n",
      "2017-04-10 10:42:41.531666\n",
      "Batch_loss and auc:  0.689699 0.6171875\n",
      "2017-04-10 10:51:53.900991\n",
      "Batch_loss and auc:  0.683161 0.609375\n",
      "2017-04-10 11:00:33.645149\n",
      "Batch_loss and auc:  0.660508 0.75\n",
      "2017-04-10 11:06:31.912364\n",
      "2017-04-10 11:06:31.912521\n",
      "2017-04-10 11:08:49.992359\n",
      "Batch_loss and auc:  0.583877 0.890625\n",
      "2017-04-10 11:17:22.202870\n",
      "Batch_loss and auc:  0.538102 0.8671875\n",
      "2017-04-10 11:26:46.738108\n",
      "Batch_loss and auc:  0.407694 0.890625\n",
      "2017-04-10 11:36:38.184182\n",
      "Batch_loss and auc:  0.41011 0.8984375\n",
      "2017-04-10 11:40:48.979757\n"
     ]
    }
   ],
   "source": [
    "train(n_iter = 2)"
   ]
  },
  {
   "cell_type": "code",
   "execution_count": 19,
   "metadata": {
    "collapsed": false
   },
   "outputs": [
    {
     "name": "stdout",
     "output_type": "stream",
     "text": [
      "Loss while training phase.\n"
     ]
    },
    {
     "data": {
      "image/png": "[encoded data removed]",
      "text/plain": [
       "<matplotlib.figure.Figure at 0x7fd5640db4e0>"
      ]
     },
     "metadata": {},
     "output_type": "display_data"
    }
   ],
   "source": [
    "plt.plot(list(range(len(losses))), losses)\n",
    "print(\"Loss while training phase.\")\n",
    "plt.show()"
   ]
  },
  {
   "cell_type": "code",
   "execution_count": 20,
   "metadata": {
    "collapsed": false,
    "scrolled": true
   },
   "outputs": [
    {
     "name": "stdout",
     "output_type": "stream",
     "text": [
      "AUC while training.\n"
     ]
    },
    {
     "data": {
      "image/png": "[encoded data removed]",
      "text/plain": [
       "<matplotlib.figure.Figure at 0x7fd539911518>"
      ]
     },
     "metadata": {},
     "output_type": "display_data"
    }
   ],
   "source": [
    "plt.plot(list(range(len(aucs))), aucs, 'r')\n",
    "print(\"AUC while training.\")\n",
    "plt.show()"
   ]
  },
  {
   "cell_type": "markdown",
   "metadata": {},
   "source": [
    "### Train and plot lost and auc accuracy for the next date:"
   ]
  },
  {
   "cell_type": "code",
   "execution_count": 21,
   "metadata": {
    "collapsed": true
   },
   "outputs": [],
   "source": [
    "t.update_new_data_from_file('data/date_2.csv')"
   ]
  },
  {
   "cell_type": "code",
   "execution_count": 22,
   "metadata": {
    "collapsed": false
   },
   "outputs": [
    {
     "name": "stdout",
     "output_type": "stream",
     "text": [
      "2017-04-10 11:41:42.718484\n",
      "2017-04-10 11:41:43.766293\n",
      "Batch_loss and auc:  0.621318 0.640625\n",
      "2017-04-10 11:53:45.903548\n",
      "Batch_loss and auc:  0.534936 0.8359375\n",
      "2017-04-10 12:05:24.654437\n",
      "Batch_loss and auc:  0.440951 0.8828125\n",
      "2017-04-10 12:15:59.742146\n",
      "Batch_loss and auc:  0.46183 0.859375\n",
      "2017-04-10 12:17:59.196830\n",
      "2017-04-10 12:17:59.196969\n",
      "2017-04-10 12:26:05.315766\n",
      "Batch_loss and auc:  0.400135 0.8828125\n",
      "2017-04-10 12:38:00.822063\n",
      "Batch_loss and auc:  0.357841 0.890625\n",
      "2017-04-10 12:48:13.553366\n",
      "Batch_loss and auc:  0.325142 0.875\n",
      "2017-04-10 12:52:11.483711\n"
     ]
    }
   ],
   "source": [
    "train(n_iter = 2)"
   ]
  },
  {
   "cell_type": "code",
   "execution_count": 23,
   "metadata": {
    "collapsed": false
   },
   "outputs": [
    {
     "name": "stdout",
     "output_type": "stream",
     "text": [
      "Loss while training phase.\n"
     ]
    },
    {
     "data": {
      "image/png": "[encoded data removed]",
      "text/plain": [
       "<matplotlib.figure.Figure at 0x7fd5398e3080>"
      ]
     },
     "metadata": {},
     "output_type": "display_data"
    }
   ],
   "source": [
    "plt.plot(list(range(len(losses))), losses)\n",
    "print(\"Loss while training phase.\")\n",
    "plt.show()"
   ]
  },
  {
   "cell_type": "code",
   "execution_count": 24,
   "metadata": {
    "collapsed": false
   },
   "outputs": [
    {
     "name": "stdout",
     "output_type": "stream",
     "text": [
      "AUC while training.\n"
     ]
    },
    {
     "data": {
      "image/png": "[encoded data removed]",
      "text/plain": [
       "<matplotlib.figure.Figure at 0x7fd5398e3240>"
      ]
     },
     "metadata": {},
     "output_type": "display_data"
    }
   ],
   "source": [
    "plt.plot(list(range(len(aucs))), aucs, 'r')\n",
    "print(\"AUC while training.\")\n",
    "plt.show()"
   ]
  },
  {
   "cell_type": "markdown",
   "metadata": {},
   "source": [
    "## AUC in date 3:"
   ]
  },
  {
   "cell_type": "code",
   "execution_count": 25,
   "metadata": {
    "collapsed": false
   },
   "outputs": [],
   "source": [
    "t.update_new_data_from_file('data/date_3.csv')"
   ]
  },
  {
   "cell_type": "code",
   "execution_count": 26,
   "metadata": {
    "collapsed": false
   },
   "outputs": [
    {
     "name": "stdout",
     "output_type": "stream",
     "text": [
      "2017-04-10 12:52:54.953423\n",
      "2017-04-10 12:52:55.846186\n",
      "Batch_loss and auc:  0.558019 0.7109375\n",
      "2017-04-10 13:03:40.273060\n",
      "Batch_loss and auc:  0.424835 0.890625\n",
      "2017-04-10 13:14:36.179180\n",
      "Batch_loss and auc:  0.420225 0.8359375\n",
      "2017-04-10 13:25:33.159095\n",
      "2017-04-10 13:25:33.159243\n",
      "2017-04-10 13:25:45.411819\n",
      "Batch_loss and auc:  0.384201 0.859375\n",
      "2017-04-10 13:37:40.882619\n",
      "Batch_loss and auc:  0.27598 0.921875\n",
      "2017-04-10 13:49:37.174431\n",
      "Batch_loss and auc:  0.266513 0.90625\n",
      "2017-04-10 14:00:52.915445\n"
     ]
    }
   ],
   "source": [
    "train(n_iter = 2)"
   ]
  },
  {
   "cell_type": "code",
   "execution_count": 27,
   "metadata": {
    "collapsed": false
   },
   "outputs": [
    {
     "name": "stdout",
     "output_type": "stream",
     "text": [
      "Loss.\n"
     ]
    },
    {
     "data": {
      "image/png": "[encoded data removed]",
      "text/plain": [
       "<matplotlib.figure.Figure at 0x7fd53766acc0>"
      ]
     },
     "metadata": {},
     "output_type": "display_data"
    }
   ],
   "source": [
    "plt.plot(list(range(len(losses))), losses)\n",
    "print(\"Loss.\")\n",
    "plt.show()"
   ]
  },
  {
   "cell_type": "code",
   "execution_count": 28,
   "metadata": {
    "collapsed": false
   },
   "outputs": [
    {
     "name": "stdout",
     "output_type": "stream",
     "text": [
      "AUC.\n"
     ]
    },
    {
     "data": {
      "image/png": "[encoded data removed]",
      "text/plain": [
       "<matplotlib.figure.Figure at 0x7fd537c207f0>"
      ]
     },
     "metadata": {},
     "output_type": "display_data"
    }
   ],
   "source": [
    "plt.plot(list(range(len(aucs))), aucs, 'r')\n",
    "print(\"AUC.\")\n",
    "plt.show()"
   ]
  },
  {
   "cell_type": "markdown",
   "metadata": {},
   "source": [
    "## Save model"
   ]
  },
  {
   "cell_type": "code",
   "execution_count": 29,
   "metadata": {
    "collapsed": false
   },
   "outputs": [
    {
     "data": {
      "text/plain": [
       "'checkpoints/model'"
      ]
     },
     "execution_count": 29,
     "metadata": {},
     "output_type": "execute_result"
    }
   ],
   "source": [
    "# Save all variables of the TensorFlow graph to file.\n",
    "saver.save(sess=session, save_path=save_path)"
   ]
  },
  {
   "cell_type": "markdown",
   "metadata": {},
   "source": [
    "### Write result to test the toy example:"
   ]
  },
  {
   "cell_type": "markdown",
   "metadata": {},
   "source": [
    "The output vector of zuids and skus will be extract to skus_vec and zuids_vec. We can reuse the result base on these vectors. For example:"
   ]
  },
  {
   "cell_type": "code",
   "execution_count": 30,
   "metadata": {
    "collapsed": false
   },
   "outputs": [],
   "source": [
    "# embedding_skus\n",
    "# embedding_zuid\n",
    "# skus_vec = session.run(embedding_skus)\n",
    "# zuids_vec = session.run(embedding_zuids)\n",
    "# ranking= session.run(ranking_matrix)\n",
    "# g_zuid_num = session.run(g_zuid)\n",
    "# g_sku_num = session.run(g_sku)"
   ]
  },
  {
   "cell_type": "code",
   "execution_count": null,
   "metadata": {
    "collapsed": false,
    "scrolled": true
   },
   "outputs": [],
   "source": []
  }
 ],
 "metadata": {
  "kernelspec": {
   "display_name": "Python 3",
   "language": "python",
   "name": "python3"
  },
  "language_info": {
   "codemirror_mode": {
    "name": "ipython",
    "version": 3
   },
   "file_extension": ".py",
   "mimetype": "text/x-python",
   "name": "python",
   "nbconvert_exporter": "python",
   "pygments_lexer": "ipython3",
   "version": "3.5.2"
  }
 },
 "nbformat": 4,
 "nbformat_minor": 0
}
